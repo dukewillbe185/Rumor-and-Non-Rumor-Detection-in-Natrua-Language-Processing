{
 "cells": [
  {
   "cell_type": "code",
   "execution_count": 57,
   "metadata": {},
   "outputs": [],
   "source": [
    "import pandas as pd\n",
    "import numpy as np"
   ]
  },
  {
   "cell_type": "code",
   "execution_count": 58,
   "metadata": {},
   "outputs": [
    {
     "data": {
      "text/html": [
       "<div>\n",
       "<style scoped>\n",
       "    .dataframe tbody tr th:only-of-type {\n",
       "        vertical-align: middle;\n",
       "    }\n",
       "\n",
       "    .dataframe tbody tr th {\n",
       "        vertical-align: top;\n",
       "    }\n",
       "\n",
       "    .dataframe thead th {\n",
       "        text-align: right;\n",
       "    }\n",
       "</style>\n",
       "<table border=\"1\" class=\"dataframe\">\n",
       "  <thead>\n",
       "    <tr style=\"text-align: right;\">\n",
       "      <th></th>\n",
       "      <th>0</th>\n",
       "      <th>1</th>\n",
       "      <th>2</th>\n",
       "    </tr>\n",
       "  </thead>\n",
       "  <tbody>\n",
       "    <tr>\n",
       "      <th>0</th>\n",
       "      <td>0</td>\n",
       "      <td>0</td>\n",
       "      <td>0</td>\n",
       "    </tr>\n",
       "    <tr>\n",
       "      <th>1</th>\n",
       "      <td>1</td>\n",
       "      <td>1</td>\n",
       "      <td>1</td>\n",
       "    </tr>\n",
       "    <tr>\n",
       "      <th>2</th>\n",
       "      <td>0</td>\n",
       "      <td>0</td>\n",
       "      <td>0</td>\n",
       "    </tr>\n",
       "    <tr>\n",
       "      <th>3</th>\n",
       "      <td>0</td>\n",
       "      <td>0</td>\n",
       "      <td>0</td>\n",
       "    </tr>\n",
       "    <tr>\n",
       "      <th>4</th>\n",
       "      <td>1</td>\n",
       "      <td>1</td>\n",
       "      <td>1</td>\n",
       "    </tr>\n",
       "    <tr>\n",
       "      <th>...</th>\n",
       "      <td>...</td>\n",
       "      <td>...</td>\n",
       "      <td>...</td>\n",
       "    </tr>\n",
       "    <tr>\n",
       "      <th>553</th>\n",
       "      <td>0</td>\n",
       "      <td>0</td>\n",
       "      <td>0</td>\n",
       "    </tr>\n",
       "    <tr>\n",
       "      <th>554</th>\n",
       "      <td>0</td>\n",
       "      <td>0</td>\n",
       "      <td>0</td>\n",
       "    </tr>\n",
       "    <tr>\n",
       "      <th>555</th>\n",
       "      <td>1</td>\n",
       "      <td>1</td>\n",
       "      <td>1</td>\n",
       "    </tr>\n",
       "    <tr>\n",
       "      <th>556</th>\n",
       "      <td>0</td>\n",
       "      <td>0</td>\n",
       "      <td>0</td>\n",
       "    </tr>\n",
       "    <tr>\n",
       "      <th>557</th>\n",
       "      <td>0</td>\n",
       "      <td>0</td>\n",
       "      <td>0</td>\n",
       "    </tr>\n",
       "  </tbody>\n",
       "</table>\n",
       "<p>558 rows × 3 columns</p>\n",
       "</div>"
      ],
      "text/plain": [
       "     0  1  2\n",
       "0    0  0  0\n",
       "1    1  1  1\n",
       "2    0  0  0\n",
       "3    0  0  0\n",
       "4    1  1  1\n",
       "..  .. .. ..\n",
       "553  0  0  0\n",
       "554  0  0  0\n",
       "555  1  1  1\n",
       "556  0  0  0\n",
       "557  0  0  0\n",
       "\n",
       "[558 rows x 3 columns]"
      ]
     },
     "execution_count": 58,
     "metadata": {},
     "output_type": "execute_result"
    }
   ],
   "source": [
    "data1 = pd.read_csv('/Users/weimin/Downloads/NLP/NLP_A3/project-data/models/Bertweet/Results/weighted+clipped/bertweet_clip_v1 - 0.93333.csv')['Predicted']\n",
    "data2 = pd.read_csv('/Users/weimin/Downloads/NLP/NLP_A3/project-data/models/Bertweet/Results/unweighted_unclipped/bertweet_pre_v1 - 0.909.csv')['Predicted']\n",
    "data3 = pd.read_csv('/Users/weimin/Downloads/NLP/NLP_A3/project-data/models/Bertweet/Results/weighted+clipped/bertweet_clip_v3 - 0.91262.csv')['Predicted']\n",
    "# data4 = pd.read_csv('/Users/weimin/Downloads/NLP/NLP_A3/project-data/models/Bertweet/Results/Bert_base_Bertplayground_90.csv')['Predicted']\n",
    "\n",
    "data = pd.concat([data1, data2, data3], axis=1, ignore_index=True)\n",
    "data"
   ]
  },
  {
   "cell_type": "code",
   "execution_count": 61,
   "metadata": {},
   "outputs": [
    {
     "name": "stdout",
     "output_type": "stream",
     "text": [
      "6\n",
      "20\n",
      "37\n",
      "39\n",
      "55\n",
      "61\n",
      "75\n",
      "120\n",
      "130\n",
      "182\n",
      "252\n",
      "277\n",
      "340\n",
      "421\n",
      "432\n",
      "477\n",
      "492\n"
     ]
    }
   ],
   "source": [
    "from collections import Counter\n",
    "results=[]\n",
    "count = 0\n",
    "for i in range(data.shape[0]): \n",
    "  vote = Counter(data.iloc[i])\n",
    "  if vote[1] == 2:\n",
    "    index = np.random.choice([0,1], p = [0.75, 0.25])\n",
    "    vote[index] = 3\n",
    "    print(i)\n",
    "  results.append(max(vote, key=vote.get))"
   ]
  },
  {
   "cell_type": "code",
   "execution_count": 11,
   "metadata": {},
   "outputs": [],
   "source": [
    "from collections import Counter\n",
    "results=[]\n",
    "for i in range(data.shape[0]): \n",
    "  vote = Counter(data.iloc[i])\n",
    "  results.append(max(vote, key=vote.get))"
   ]
  },
  {
   "cell_type": "code",
   "execution_count": 60,
   "metadata": {},
   "outputs": [],
   "source": [
    "output=pd.DataFrame({'Predicted':results})\n",
    "output['Id'] = output.index\n",
    "filename = '/Users/weimin/Downloads/NLP/NLP_A3/project-data/models/Bertweet/Results/Voting_test2.csv'\n",
    "output.to_csv(filename, index=False)"
   ]
  }
 ],
 "metadata": {
  "interpreter": {
   "hash": "f746916dbd0327fa9460fd807b02f56a9cc5be3ad0996759d57ab95b8af55a75"
  },
  "kernelspec": {
   "display_name": "Python 3.9.7 ('base')",
   "language": "python",
   "name": "python3"
  },
  "language_info": {
   "codemirror_mode": {
    "name": "ipython",
    "version": 3
   },
   "file_extension": ".py",
   "mimetype": "text/x-python",
   "name": "python",
   "nbconvert_exporter": "python",
   "pygments_lexer": "ipython3",
   "version": "3.9.7"
  },
  "orig_nbformat": 4
 },
 "nbformat": 4,
 "nbformat_minor": 2
}
