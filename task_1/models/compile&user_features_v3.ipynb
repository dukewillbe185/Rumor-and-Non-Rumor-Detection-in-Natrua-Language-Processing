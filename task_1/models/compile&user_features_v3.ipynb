{
 "cells": [
  {
   "cell_type": "code",
   "execution_count": 31,
   "id": "3b8572d2-16c7-4290-aa91-269a61deca14",
   "metadata": {},
   "outputs": [],
   "source": [
    "import pandas as pd\n",
    "import numpy as np\n",
    "import re\n",
    "import string\n",
    "from nltk.corpus import stopwords\n",
    "from nltk.stem import PorterStemmer\n",
    "from nltk.tokenize import TweetTokenizer\n",
    "from sklearn.naive_bayes import ComplementNB\n",
    "from sklearn import svm\n",
    "from sklearn.metrics import classification_report\n",
    "from sklearn.metrics import accuracy_score\n",
    "from sklearn.feature_extraction.text import TfidfVectorizer\n",
    "from sklearn.preprocessing import StandardScaler, MinMaxScaler\n",
    "from imblearn.over_sampling import SMOTE"
   ]
  },
  {
   "cell_type": "code",
   "execution_count": 2,
   "id": "3472a037-492e-4cb3-9505-a0376ec1b50c",
   "metadata": {},
   "outputs": [],
   "source": [
    "train = pd.read_csv('train_label.csv')\n",
    "dev = pd.read_csv('dev_label.csv')\n",
    "test = pd.read_csv('test.csv')"
   ]
  },
  {
   "cell_type": "code",
   "execution_count": 3,
   "id": "ba17a677-d5b7-4cd8-84f2-de42bba2584a",
   "metadata": {},
   "outputs": [],
   "source": [
    "def process_tweet(tweet):\n",
    "    \"\"\"Process tweet function.\n",
    "    Input:\n",
    "        tweet: a string containing a tweet\n",
    "    Output:\n",
    "        tweets_clean: a list of words containing the processed tweet\n",
    "    \"\"\"\n",
    "    stemmer = PorterStemmer()\n",
    "    stopwords_english = stopwords.words('english')\n",
    "    # remove stock market tickers like $GE\n",
    "    tweet = re.sub(r'\\$\\w*', '', tweet)\n",
    "    # remove old style retweet text \"RT\"\n",
    "    tweet = re.sub(r'^RT[\\s]+', '', tweet)\n",
    "    # remove hyperlinks\n",
    "    tweet = re.sub(r'http\\S+', '', tweet)\n",
    "    # remove hashtags\n",
    "    # only removing the hash # sign from the word\n",
    "    tweet = re.sub(r'#', '', tweet)\n",
    "    # tokenize tweets\n",
    "    tokenizer = TweetTokenizer(preserve_case=False, strip_handles=True,\n",
    "                               reduce_len=True)\n",
    "    tweet_tokens = tokenizer.tokenize(tweet)\n",
    "\n",
    "    tweets_clean = []\n",
    "    for word in tweet_tokens:\n",
    "        if (word not in stopwords_english and  # remove stopwords\n",
    "                word not in string.punctuation):  # remove punctuation\n",
    "            # tweets_clean.append(word)\n",
    "            stem_word = stemmer.stem(word)  # stemming word\n",
    "            tweets_clean.append(stem_word)\n",
    "\n",
    "    return tweets_clean"
   ]
  },
  {
   "cell_type": "code",
   "execution_count": 4,
   "id": "50c9f7a1-afdc-4a92-a419-6db65a4a63d0",
   "metadata": {},
   "outputs": [],
   "source": [
    "all_train_text = []\n",
    "train_replies_len = []\n",
    "for item in train.text:\n",
    "    item = item.split(',')\n",
    "    source = process_tweet(item[0])\n",
    "    source = ' '.join(source)\n",
    "    all_train_text.append(source)\n",
    "    train_replies_len.append(1)\n",
    "    replies = [process_tweet(t) for t in item[1:]]\n",
    "    replies = [' '.join(t) for t in replies]\n",
    "    reply_length = len(replies)\n",
    "    train_replies_len.append(reply_length)\n",
    "    replies = ' '.join(replies)\n",
    "    all_train_text.append(replies)"
   ]
  },
  {
   "cell_type": "code",
   "execution_count": 5,
   "id": "1c67ac68-523b-44ce-aa64-c4c66ff8c453",
   "metadata": {},
   "outputs": [
    {
     "data": {
      "text/plain": [
       "3140"
      ]
     },
     "execution_count": 5,
     "metadata": {},
     "output_type": "execute_result"
    }
   ],
   "source": [
    "len(all_train_text)"
   ]
  },
  {
   "cell_type": "code",
   "execution_count": 6,
   "id": "dfeb1eb4-5c25-4723-9da1-e35e5574e683",
   "metadata": {},
   "outputs": [
    {
     "data": {
      "text/plain": [
       "3140"
      ]
     },
     "execution_count": 6,
     "metadata": {},
     "output_type": "execute_result"
    }
   ],
   "source": [
    "len(train_replies_len)"
   ]
  },
  {
   "cell_type": "code",
   "execution_count": 7,
   "id": "8d202176-ec17-460d-bdd6-4700ce467269",
   "metadata": {},
   "outputs": [],
   "source": [
    "all_dev_text = []\n",
    "dev_replies_len = []\n",
    "for item in dev.text:\n",
    "    item = item.split(',')\n",
    "    source = process_tweet(item[0])\n",
    "    source = ' '.join(source)\n",
    "    all_dev_text.append(source)\n",
    "    dev_replies_len.append(1)\n",
    "    replies = [process_tweet(t) for t in item[1:]]\n",
    "    replies = [' '.join(t) for t in replies]\n",
    "    reply_length = len(replies)\n",
    "    dev_replies_len.append(reply_length)\n",
    "    replies = ' '.join(replies)\n",
    "    all_dev_text.append(replies)"
   ]
  },
  {
   "cell_type": "code",
   "execution_count": 8,
   "id": "4807305a-70f9-4b80-9287-2a3b92437289",
   "metadata": {},
   "outputs": [
    {
     "data": {
      "text/plain": [
       "1074"
      ]
     },
     "execution_count": 8,
     "metadata": {},
     "output_type": "execute_result"
    }
   ],
   "source": [
    "len(all_dev_text)"
   ]
  },
  {
   "cell_type": "code",
   "execution_count": 9,
   "id": "d2c2d2e2-c4c7-49ee-bba9-489dec2cd785",
   "metadata": {},
   "outputs": [
    {
     "data": {
      "text/plain": [
       "1074"
      ]
     },
     "execution_count": 9,
     "metadata": {},
     "output_type": "execute_result"
    }
   ],
   "source": [
    "len(dev_replies_len)"
   ]
  },
  {
   "cell_type": "code",
   "execution_count": 10,
   "id": "4b78cc54-a06c-4c6d-8a2c-53410aa437f7",
   "metadata": {},
   "outputs": [],
   "source": [
    "all_test_text = []\n",
    "test_replies_len = []\n",
    "for item in test.text:\n",
    "    item = item.split(',')\n",
    "    source = process_tweet(item[0])\n",
    "    source = ' '.join(source)\n",
    "    all_test_text.append(source)\n",
    "    test_replies_len.append(1)\n",
    "    replies = [process_tweet(t) for t in item[1:]]\n",
    "    replies = [' '.join(t) for t in replies]\n",
    "    reply_length = len(replies)\n",
    "    test_replies_len.append(reply_length)\n",
    "    replies = ' '.join(replies)\n",
    "    all_test_text.append(replies)"
   ]
  },
  {
   "cell_type": "code",
   "execution_count": 11,
   "id": "b6b31db7-8cc8-402a-ad7c-085e99b5b2a6",
   "metadata": {},
   "outputs": [
    {
     "data": {
      "text/plain": [
       "1116"
      ]
     },
     "execution_count": 11,
     "metadata": {},
     "output_type": "execute_result"
    }
   ],
   "source": [
    "len(all_test_text)"
   ]
  },
  {
   "cell_type": "code",
   "execution_count": 12,
   "id": "4c21221c-4043-438c-85ca-f249ba2fac52",
   "metadata": {},
   "outputs": [
    {
     "data": {
      "text/plain": [
       "1116"
      ]
     },
     "execution_count": 12,
     "metadata": {},
     "output_type": "execute_result"
    }
   ],
   "source": [
    "len(test_replies_len)"
   ]
  },
  {
   "cell_type": "code",
   "execution_count": 13,
   "id": "e5bff356-ffa3-4224-9811-bc01ecd4fdfa",
   "metadata": {},
   "outputs": [],
   "source": [
    "tf_idf_vectorizer = TfidfVectorizer(tokenizer = TweetTokenizer().tokenize, max_df = 0.8, min_df = 3, max_features = 6000)\n",
    "\n",
    "train_tfidf_matrix = tf_idf_vectorizer.fit_transform(all_train_text)\n",
    "\n",
    "dev_tfidf_matrix = tf_idf_vectorizer.transform(all_dev_text)\n",
    "\n",
    "test_tfidf_matrix = tf_idf_vectorizer.transform(all_test_text)"
   ]
  },
  {
   "cell_type": "code",
   "execution_count": 14,
   "id": "b25971f4-147d-44a3-a8e0-1b1b05a432ef",
   "metadata": {},
   "outputs": [
    {
     "data": {
      "text/plain": [
       "(3140, 4926)"
      ]
     },
     "execution_count": 14,
     "metadata": {},
     "output_type": "execute_result"
    }
   ],
   "source": [
    "train_tfidf_matrix.shape"
   ]
  },
  {
   "cell_type": "code",
   "execution_count": 15,
   "id": "b370b91e-2ec5-4859-9de0-aa5538afa269",
   "metadata": {},
   "outputs": [
    {
     "data": {
      "text/plain": [
       "(1074, 4926)"
      ]
     },
     "execution_count": 15,
     "metadata": {},
     "output_type": "execute_result"
    }
   ],
   "source": [
    "dev_tfidf_matrix.shape"
   ]
  },
  {
   "cell_type": "code",
   "execution_count": 16,
   "id": "8ef75da0-00bb-4db0-9c04-fe5ce20f3dbe",
   "metadata": {},
   "outputs": [
    {
     "data": {
      "text/plain": [
       "(1116, 4926)"
      ]
     },
     "execution_count": 16,
     "metadata": {},
     "output_type": "execute_result"
    }
   ],
   "source": [
    "test_tfidf_matrix.shape"
   ]
  },
  {
   "cell_type": "code",
   "execution_count": 17,
   "id": "bcb6f11b-1bf2-469d-a4c8-fc307dcfdcb6",
   "metadata": {},
   "outputs": [],
   "source": [
    "train = train.drop(['row', 'text', 'profile_description'], axis = 1).round(4)\n",
    "dev = dev.drop(['row', 'text', 'profile_description'], axis = 1).round(4)\n",
    "test = test.drop(['row', 'text', 'profile_description'], axis = 1).round(4)"
   ]
  },
  {
   "cell_type": "code",
   "execution_count": 18,
   "id": "0064cac9-a180-4b92-809b-53de145a08a5",
   "metadata": {},
   "outputs": [],
   "source": [
    "def construct(dataset, replies_length, ftidfmatrix):\n",
    "\n",
    "    feature_vec = []\n",
    "    for i in range(0, ftidfmatrix.shape[0] - 1 , 2):\n",
    "        source_text_features = ftidfmatrix[i].toarray()\n",
    "        reply_text_features = ftidfmatrix[i + 1].toarray()/replies_length[i + 1]\n",
    "        text_features = np.squeeze(source_text_features + reply_text_features)\n",
    "\n",
    "        feature_vec.append(text_features)\n",
    "\n",
    "    text = pd.DataFrame(feature_vec)\n",
    "    data = pd.concat([dataset, text], axis = 1)\n",
    "    \n",
    "    return data"
   ]
  },
  {
   "cell_type": "code",
   "execution_count": 19,
   "id": "9ae66f9c-9b6a-4f07-9308-d0330f37cb5e",
   "metadata": {},
   "outputs": [
    {
     "name": "stderr",
     "output_type": "stream",
     "text": [
      "/var/folders/zm/w0wn08v14ggc6v0qq8qzjmz80000gn/T/ipykernel_61246/3886701676.py:6: RuntimeWarning: invalid value encountered in true_divide\n",
      "  reply_text_features = ftidfmatrix[i + 1].toarray()/replies_length[i + 1]\n"
     ]
    }
   ],
   "source": [
    "train = construct(train, train_replies_len, train_tfidf_matrix)\n",
    "dev = construct(dev, dev_replies_len, dev_tfidf_matrix)\n",
    "test = construct(test, test_replies_len, test_tfidf_matrix)"
   ]
  },
  {
   "cell_type": "code",
   "execution_count": 20,
   "id": "bcf80415-0aed-436e-93aa-873c3267b7a6",
   "metadata": {},
   "outputs": [],
   "source": [
    "train = train.fillna(0)\n",
    "dev = dev.fillna(0)\n",
    "test = test.fillna(0)"
   ]
  },
  {
   "cell_type": "code",
   "execution_count": 21,
   "id": "1f3321b2-efb0-4a3b-960d-3dc5325d71a3",
   "metadata": {},
   "outputs": [],
   "source": [
    "train.to_csv('train_data.csv')\n",
    "dev.to_csv('dev_data.csv')\n",
    "test.to_csv('test_data.csv')"
   ]
  },
  {
   "cell_type": "code",
   "execution_count": 22,
   "id": "002cf854-b57c-4a25-b556-7328a3e88cf1",
   "metadata": {},
   "outputs": [],
   "source": [
    "user_train = train.iloc[:, :6]\n",
    "user_dev = dev.iloc[:, :6]\n",
    "user_test = test.iloc[:, :6]"
   ]
  },
  {
   "cell_type": "code",
   "execution_count": 23,
   "id": "923d6e1d-5920-4500-be29-321209e9f2dd",
   "metadata": {},
   "outputs": [],
   "source": [
    "minmax = MinMaxScaler()\n",
    "user_train = minmax.fit_transform(user_train)\n",
    "user_dev = minmax.transform(user_dev)\n",
    "user_test = minmax.transform(user_test)"
   ]
  },
  {
   "cell_type": "code",
   "execution_count": 24,
   "id": "6a5b3fa1-c6dc-44e4-b3a0-19a1ee870d5b",
   "metadata": {},
   "outputs": [],
   "source": [
    "user_train = pd.DataFrame(user_train)\n",
    "train_scale = pd.concat([user_train, train.iloc[:, 6:]], axis = 1)"
   ]
  },
  {
   "cell_type": "code",
   "execution_count": 25,
   "id": "1df03150-d841-4413-bc01-6e340f1641bd",
   "metadata": {},
   "outputs": [],
   "source": [
    "user_dev = pd.DataFrame(user_dev)\n",
    "dev_scale = pd.concat([user_dev, dev.iloc[:, 6:]], axis = 1)"
   ]
  },
  {
   "cell_type": "code",
   "execution_count": 26,
   "id": "045d40df-11cf-4dae-93a8-b7fa428572c9",
   "metadata": {},
   "outputs": [],
   "source": [
    "user_test = pd.DataFrame(user_test)\n",
    "test_scale = pd.concat([user_test, test.iloc[:, 6:]], axis = 1)"
   ]
  },
  {
   "cell_type": "code",
   "execution_count": 27,
   "id": "2ee47091-31c5-4632-9d64-5fb329a10889",
   "metadata": {},
   "outputs": [],
   "source": [
    "train_scale.to_csv('train_minmax.csv')\n",
    "dev_scale.to_csv('dev_minmax.csv')\n",
    "test_scale.to_csv('test_minmax.csv')"
   ]
  },
  {
   "cell_type": "code",
   "execution_count": 28,
   "id": "b62ecd37-8659-429e-b473-367642b6382b",
   "metadata": {},
   "outputs": [],
   "source": [
    "train_x = train_scale.drop('label', axis = 1)\n",
    "train_y = train_scale.label"
   ]
  },
  {
   "cell_type": "code",
   "execution_count": 29,
   "id": "cb8f0e7f-44e1-4b13-8ebd-293c5d160048",
   "metadata": {},
   "outputs": [],
   "source": [
    "dev_x = dev_scale.drop('label', axis = 1)\n",
    "dev_y = dev_scale.label"
   ]
  },
  {
   "cell_type": "code",
   "execution_count": 32,
   "id": "198fe7dd",
   "metadata": {},
   "outputs": [],
   "source": [
    "x_sm_train, y_sm_train = SMOTE().fit_resample(np.array(train_x), train_y)\n",
    "x_sm_dev, y_sm_dev = SMOTE().fit_resample(np.array(dev_x), dev_y)"
   ]
  },
  {
   "cell_type": "code",
   "execution_count": 34,
   "id": "cd234c4b",
   "metadata": {},
   "outputs": [
    {
     "name": "stdout",
     "output_type": "stream",
     "text": [
      "0.001               precision    recall  f1-score   support\n",
      "\n",
      "           0       0.86      0.95      0.90       422\n",
      "           1       0.94      0.85      0.89       422\n",
      "\n",
      "    accuracy                           0.90       844\n",
      "   macro avg       0.90      0.90      0.90       844\n",
      "weighted avg       0.90      0.90      0.90       844\n",
      "\n",
      "0.01               precision    recall  f1-score   support\n",
      "\n",
      "           0       0.89      0.94      0.91       422\n",
      "           1       0.93      0.88      0.90       422\n",
      "\n",
      "    accuracy                           0.91       844\n",
      "   macro avg       0.91      0.91      0.91       844\n",
      "weighted avg       0.91      0.91      0.91       844\n",
      "\n",
      "0.1               precision    recall  f1-score   support\n",
      "\n",
      "           0       0.93      0.91      0.92       422\n",
      "           1       0.92      0.93      0.92       422\n",
      "\n",
      "    accuracy                           0.92       844\n",
      "   macro avg       0.92      0.92      0.92       844\n",
      "weighted avg       0.92      0.92      0.92       844\n",
      "\n",
      "1.0               precision    recall  f1-score   support\n",
      "\n",
      "           0       0.95      0.87      0.91       422\n",
      "           1       0.88      0.96      0.92       422\n",
      "\n",
      "    accuracy                           0.91       844\n",
      "   macro avg       0.92      0.91      0.91       844\n",
      "weighted avg       0.92      0.91      0.91       844\n",
      "\n",
      "10.0               precision    recall  f1-score   support\n",
      "\n",
      "           0       0.90      0.77      0.83       422\n",
      "           1       0.80      0.92      0.85       422\n",
      "\n",
      "    accuracy                           0.84       844\n",
      "   macro avg       0.85      0.84      0.84       844\n",
      "weighted avg       0.85      0.84      0.84       844\n",
      "\n"
     ]
    }
   ],
   "source": [
    "alphas = np.logspace(-3, 1, 5)\n",
    "\n",
    "for a in alphas:\n",
    "    comp_nb = ComplementNB(alpha = a)\n",
    "    comp_nb.fit(x_sm_train, y_sm_train)\n",
    "    pred = comp_nb.predict(x_sm_dev)\n",
    "    print(a, classification_report(y_sm_dev, pred))"
   ]
  },
  {
   "cell_type": "code",
   "execution_count": 38,
   "id": "7bfd65e0",
   "metadata": {},
   "outputs": [],
   "source": [
    "y_pred = comp_nb.predict(test_scale)\n",
    "results = pd.DataFrame({'Predicted' : y_pred})\n",
    "results.index.name = 'Id'\n",
    "results.to_csv('test_results.csv')"
   ]
  },
  {
   "cell_type": "code",
   "execution_count": 39,
   "id": "5a9ffe0c",
   "metadata": {},
   "outputs": [],
   "source": [
    "x_sm_train, y_sm_train = SMOTE().fit_resample(np.array(train_x), train_y)\n",
    "x_sm_dev, y_sm_dev = SMOTE().fit_resample(np.array(dev_x), dev_y)"
   ]
  },
  {
   "cell_type": "code",
   "execution_count": 34,
   "id": "091b0ca6-3e88-4176-a7a6-f833efd23097",
   "metadata": {},
   "outputs": [
    {
     "name": "stdout",
     "output_type": "stream",
     "text": [
      "              precision    recall  f1-score   support\n",
      "\n",
      "           0       0.95      0.86      0.90       422\n",
      "           1       0.87      0.95      0.91       422\n",
      "\n",
      "    accuracy                           0.91       844\n",
      "   macro avg       0.91      0.91      0.91       844\n",
      "weighted avg       0.91      0.91      0.91       844\n",
      "\n"
     ]
    }
   ],
   "source": [
    "comp_nb = ComplementNB()\n",
    "comp_nb.fit(x_sm_train, y_sm_train)\n",
    "pred = comp_nb.predict(x_sm_dev)\n",
    "print(classification_report(y_sm_dev, pred))"
   ]
  },
  {
   "cell_type": "code",
   "execution_count": 35,
   "id": "8d596426-b5c5-4987-998b-53f7b369366e",
   "metadata": {},
   "outputs": [],
   "source": [
    "y_pred = comp_nb.predict(test_scale)\n",
    "results = pd.DataFrame({'Predicted' : y_pred})\n",
    "results.index.name = 'Id'\n",
    "results.to_csv('test_results.csv')"
   ]
  },
  {
   "cell_type": "code",
   "execution_count": 44,
   "id": "31059b8f-67b2-49c1-ab11-b5154249029e",
   "metadata": {},
   "outputs": [
    {
     "name": "stdout",
     "output_type": "stream",
     "text": [
      "C = 0.001, gamma = 0.001, train acc = 0.5829383886255924\n",
      "valid acc = 0.5754189944134078\n",
      "              precision    recall  f1-score   support\n",
      "\n",
      "           0       0.83      0.58      0.68       422\n",
      "           1       0.27      0.57      0.36       115\n",
      "\n",
      "    accuracy                           0.58       537\n",
      "   macro avg       0.55      0.57      0.52       537\n",
      "weighted avg       0.71      0.58      0.61       537\n",
      "\n",
      "C = 0.001, gamma = 0.01, train acc = 0.5853080568720379\n",
      "valid acc = 0.5754189944134078\n",
      "              precision    recall  f1-score   support\n",
      "\n",
      "           0       0.83      0.58      0.68       422\n",
      "           1       0.27      0.57      0.36       115\n",
      "\n",
      "    accuracy                           0.58       537\n",
      "   macro avg       0.55      0.57      0.52       537\n",
      "weighted avg       0.71      0.58      0.61       537\n",
      "\n",
      "C = 0.001, gamma = 0.1, train acc = 0.5924170616113744\n",
      "valid acc = 0.5754189944134078\n",
      "              precision    recall  f1-score   support\n",
      "\n",
      "           0       0.83      0.58      0.68       422\n",
      "           1       0.27      0.56      0.36       115\n",
      "\n",
      "    accuracy                           0.58       537\n",
      "   macro avg       0.55      0.57      0.52       537\n",
      "weighted avg       0.71      0.58      0.61       537\n",
      "\n",
      "C = 0.001, gamma = 1.0, train acc = 0.6315165876777251\n",
      "valid acc = 0.7932960893854749\n",
      "              precision    recall  f1-score   support\n",
      "\n",
      "           0       0.79      1.00      0.88       422\n",
      "           1       1.00      0.03      0.07       115\n",
      "\n",
      "    accuracy                           0.79       537\n",
      "   macro avg       0.90      0.52      0.48       537\n",
      "weighted avg       0.84      0.79      0.71       537\n",
      "\n",
      "C = 0.001, gamma = 10.0, train acc = 0.5355450236966824\n",
      "valid acc = 0.7914338919925512\n",
      "              precision    recall  f1-score   support\n",
      "\n",
      "           0       0.79      1.00      0.88       422\n",
      "           1       1.00      0.03      0.05       115\n",
      "\n",
      "    accuracy                           0.79       537\n",
      "   macro avg       0.90      0.51      0.47       537\n",
      "weighted avg       0.84      0.79      0.70       537\n",
      "\n",
      "C = 0.01, gamma = 0.001, train acc = 0.5829383886255924\n",
      "valid acc = 0.5754189944134078\n",
      "              precision    recall  f1-score   support\n",
      "\n",
      "           0       0.83      0.58      0.68       422\n",
      "           1       0.27      0.57      0.36       115\n",
      "\n",
      "    accuracy                           0.58       537\n",
      "   macro avg       0.55      0.57      0.52       537\n",
      "weighted avg       0.71      0.58      0.61       537\n",
      "\n",
      "C = 0.01, gamma = 0.01, train acc = 0.5853080568720379\n",
      "valid acc = 0.5754189944134078\n",
      "              precision    recall  f1-score   support\n",
      "\n",
      "           0       0.83      0.58      0.68       422\n",
      "           1       0.27      0.57      0.36       115\n",
      "\n",
      "    accuracy                           0.58       537\n",
      "   macro avg       0.55      0.57      0.52       537\n",
      "weighted avg       0.71      0.58      0.61       537\n",
      "\n",
      "C = 0.01, gamma = 0.1, train acc = 0.5924170616113744\n",
      "valid acc = 0.5754189944134078\n",
      "              precision    recall  f1-score   support\n",
      "\n",
      "           0       0.83      0.58      0.68       422\n",
      "           1       0.27      0.56      0.36       115\n",
      "\n",
      "    accuracy                           0.58       537\n",
      "   macro avg       0.55      0.57      0.52       537\n",
      "weighted avg       0.71      0.58      0.61       537\n",
      "\n",
      "C = 0.01, gamma = 1.0, train acc = 0.6267772511848341\n",
      "valid acc = 0.7932960893854749\n",
      "              precision    recall  f1-score   support\n",
      "\n",
      "           0       0.79      1.00      0.88       422\n",
      "           1       1.00      0.03      0.07       115\n",
      "\n",
      "    accuracy                           0.79       537\n",
      "   macro avg       0.90      0.52      0.48       537\n",
      "weighted avg       0.84      0.79      0.71       537\n",
      "\n",
      "C = 0.01, gamma = 10.0, train acc = 0.5355450236966824\n",
      "valid acc = 0.7914338919925512\n",
      "              precision    recall  f1-score   support\n",
      "\n",
      "           0       0.79      1.00      0.88       422\n",
      "           1       1.00      0.03      0.05       115\n",
      "\n",
      "    accuracy                           0.79       537\n",
      "   macro avg       0.90      0.51      0.47       537\n",
      "weighted avg       0.84      0.79      0.70       537\n",
      "\n",
      "C = 0.1, gamma = 0.001, train acc = 0.5829383886255924\n",
      "valid acc = 0.5754189944134078\n",
      "              precision    recall  f1-score   support\n",
      "\n",
      "           0       0.83      0.58      0.68       422\n",
      "           1       0.27      0.57      0.36       115\n",
      "\n",
      "    accuracy                           0.58       537\n",
      "   macro avg       0.55      0.57      0.52       537\n",
      "weighted avg       0.71      0.58      0.61       537\n",
      "\n",
      "C = 0.1, gamma = 0.01, train acc = 0.5853080568720379\n",
      "valid acc = 0.5754189944134078\n",
      "              precision    recall  f1-score   support\n",
      "\n",
      "           0       0.83      0.58      0.68       422\n",
      "           1       0.27      0.57      0.36       115\n",
      "\n",
      "    accuracy                           0.58       537\n",
      "   macro avg       0.55      0.57      0.52       537\n",
      "weighted avg       0.71      0.58      0.61       537\n",
      "\n",
      "C = 0.1, gamma = 0.1, train acc = 0.6895734597156398\n",
      "valid acc = 0.6722532588454376\n",
      "              precision    recall  f1-score   support\n",
      "\n",
      "           0       0.86      0.70      0.77       422\n",
      "           1       0.34      0.58      0.43       115\n",
      "\n",
      "    accuracy                           0.67       537\n",
      "   macro avg       0.60      0.64      0.60       537\n",
      "weighted avg       0.75      0.67      0.70       537\n",
      "\n",
      "C = 0.1, gamma = 1.0, train acc = 0.8092417061611374\n",
      "valid acc = 0.8268156424581006\n",
      "              precision    recall  f1-score   support\n",
      "\n",
      "           0       0.82      1.00      0.90       422\n",
      "           1       0.96      0.20      0.33       115\n",
      "\n",
      "    accuracy                           0.83       537\n",
      "   macro avg       0.89      0.60      0.62       537\n",
      "weighted avg       0.85      0.83      0.78       537\n",
      "\n",
      "C = 0.1, gamma = 10.0, train acc = 0.5699052132701422\n",
      "valid acc = 0.7951582867783985\n",
      "              precision    recall  f1-score   support\n",
      "\n",
      "           0       0.79      1.00      0.88       422\n",
      "           1       0.86      0.05      0.10       115\n",
      "\n",
      "    accuracy                           0.80       537\n",
      "   macro avg       0.83      0.52      0.49       537\n",
      "weighted avg       0.81      0.80      0.72       537\n",
      "\n",
      "C = 1.0, gamma = 0.001, train acc = 0.5829383886255924\n",
      "valid acc = 0.5754189944134078\n",
      "              precision    recall  f1-score   support\n",
      "\n",
      "           0       0.83      0.58      0.68       422\n",
      "           1       0.27      0.57      0.36       115\n",
      "\n",
      "    accuracy                           0.58       537\n",
      "   macro avg       0.55      0.57      0.52       537\n",
      "weighted avg       0.71      0.58      0.61       537\n",
      "\n",
      "C = 1.0, gamma = 0.01, train acc = 0.6777251184834123\n",
      "valid acc = 0.6480446927374302\n",
      "              precision    recall  f1-score   support\n",
      "\n",
      "           0       0.88      0.64      0.74       422\n",
      "           1       0.34      0.69      0.46       115\n",
      "\n",
      "    accuracy                           0.65       537\n",
      "   macro avg       0.61      0.66      0.60       537\n",
      "weighted avg       0.77      0.65      0.68       537\n",
      "\n",
      "C = 1.0, gamma = 0.1, train acc = 0.9348341232227488\n",
      "valid acc = 0.925512104283054\n",
      "              precision    recall  f1-score   support\n",
      "\n",
      "           0       0.94      0.96      0.95       422\n",
      "           1       0.86      0.78      0.82       115\n",
      "\n",
      "    accuracy                           0.93       537\n",
      "   macro avg       0.90      0.87      0.89       537\n",
      "weighted avg       0.92      0.93      0.92       537\n",
      "\n",
      "C = 1.0, gamma = 1.0, train acc = 0.8992890995260664\n",
      "valid acc = 0.8938547486033519\n",
      "              precision    recall  f1-score   support\n",
      "\n",
      "           0       0.88      1.00      0.94       422\n",
      "           1       0.97      0.52      0.68       115\n",
      "\n",
      "    accuracy                           0.89       537\n",
      "   macro avg       0.93      0.76      0.81       537\n",
      "weighted avg       0.90      0.89      0.88       537\n",
      "\n",
      "C = 1.0, gamma = 10.0, train acc = 0.6303317535545023\n",
      "valid acc = 0.8081936685288641\n",
      "              precision    recall  f1-score   support\n",
      "\n",
      "           0       0.80      1.00      0.89       422\n",
      "           1       0.93      0.11      0.20       115\n",
      "\n",
      "    accuracy                           0.81       537\n",
      "   macro avg       0.87      0.56      0.55       537\n",
      "weighted avg       0.83      0.81      0.74       537\n",
      "\n",
      "C = 10.0, gamma = 0.001, train acc = 0.6741706161137441\n",
      "valid acc = 0.6480446927374302\n",
      "              precision    recall  f1-score   support\n",
      "\n",
      "           0       0.89      0.63      0.74       422\n",
      "           1       0.34      0.70      0.46       115\n",
      "\n",
      "    accuracy                           0.65       537\n",
      "   macro avg       0.62      0.67      0.60       537\n",
      "weighted avg       0.77      0.65      0.68       537\n",
      "\n",
      "C = 10.0, gamma = 0.01, train acc = 0.9253554502369669\n",
      "valid acc = 0.8845437616387337\n",
      "              precision    recall  f1-score   support\n",
      "\n",
      "           0       0.99      0.86      0.92       422\n",
      "           1       0.65      0.97      0.78       115\n",
      "\n",
      "    accuracy                           0.88       537\n",
      "   macro avg       0.82      0.92      0.85       537\n",
      "weighted avg       0.92      0.88      0.89       537\n",
      "\n",
      "C = 10.0, gamma = 0.1, train acc = 0.9549763033175356\n",
      "valid acc = 0.9404096834264432\n",
      "              precision    recall  f1-score   support\n",
      "\n",
      "           0       0.96      0.97      0.96       422\n",
      "           1       0.87      0.84      0.86       115\n",
      "\n",
      "    accuracy                           0.94       537\n",
      "   macro avg       0.92      0.91      0.91       537\n",
      "weighted avg       0.94      0.94      0.94       537\n",
      "\n",
      "C = 10.0, gamma = 1.0, train acc = 0.9087677725118484\n",
      "valid acc = 0.9106145251396648\n",
      "              precision    recall  f1-score   support\n",
      "\n",
      "           0       0.90      1.00      0.95       422\n",
      "           1       0.97      0.60      0.74       115\n",
      "\n",
      "    accuracy                           0.91       537\n",
      "   macro avg       0.94      0.80      0.84       537\n",
      "weighted avg       0.92      0.91      0.90       537\n",
      "\n",
      "C = 10.0, gamma = 10.0, train acc = 0.6315165876777251\n",
      "valid acc = 0.8081936685288641\n",
      "              precision    recall  f1-score   support\n",
      "\n",
      "           0       0.80      1.00      0.89       422\n",
      "           1       0.93      0.11      0.20       115\n",
      "\n",
      "    accuracy                           0.81       537\n",
      "   macro avg       0.87      0.56      0.55       537\n",
      "weighted avg       0.83      0.81      0.74       537\n",
      "\n"
     ]
    }
   ],
   "source": [
    "cs = np.logspace(-3, 1, 5)\n",
    "gammas = np.logspace(-3, 1, 5)\n",
    "\n",
    "for c in cs:\n",
    "    for gamma in gammas:\n",
    "        model = svm.SVC(kernel = 'rbf', gamma = gamma, C = c, class_weight = 'balanced').fit(x_sm_train, y_sm_train)\n",
    "        train_score = accuracy_score (y_sm_dev, model.predict(x_sm_dev))\n",
    "        \n",
    "        print(f'C = {c}, gamma = {gamma}, train acc = {train_score}')\n",
    "        y_valid = model.predict(dev_x)\n",
    "        valid_score = accuracy_score(dev_y, y_valid)\n",
    "        print(f'valid acc = {valid_score}')\n",
    "        \n",
    "        print(classification_report(dev_y, y_valid))"
   ]
  },
  {
   "cell_type": "code",
   "execution_count": 41,
   "id": "d7169db5",
   "metadata": {},
   "outputs": [],
   "source": [
    "model = svm.SVC(gamma = 0.1, C = 10, class_weight = 'balanced').fit(x_sm_train, y_sm_train)"
   ]
  },
  {
   "cell_type": "code",
   "execution_count": 43,
   "id": "84b87cd8",
   "metadata": {},
   "outputs": [],
   "source": [
    "y_pred = model.predict(test_scale)\n",
    "results = pd.DataFrame({'Predicted' : y_pred})\n",
    "results.index.name = 'Id'\n",
    "results.to_csv('test_results.csv')"
   ]
  }
 ],
 "metadata": {
  "kernelspec": {
   "display_name": "Python 3 (ipykernel)",
   "language": "python",
   "name": "python3"
  },
  "language_info": {
   "codemirror_mode": {
    "name": "ipython",
    "version": 3
   },
   "file_extension": ".py",
   "mimetype": "text/x-python",
   "name": "python",
   "nbconvert_exporter": "python",
   "pygments_lexer": "ipython3",
   "version": "3.9.7"
  }
 },
 "nbformat": 4,
 "nbformat_minor": 5
}
