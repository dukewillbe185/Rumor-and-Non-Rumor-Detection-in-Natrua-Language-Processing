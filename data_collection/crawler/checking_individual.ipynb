{
 "cells": [
  {
   "cell_type": "code",
   "execution_count": 195,
   "metadata": {},
   "outputs": [],
   "source": [
    "import tweepy\n",
    "\n",
    "BEARER_TOKEN = 'AAAAAAAAAAAAAAAAAAAAAGvGbQEAAAAACMRCC9dW75oHLdZY872KQV%2FwncY%3DAYzORvis40n3ndPKneBisKPBQ4sYVpNthL0YHJLJZ9d6WmAjWY'\n",
    "\n",
    "def authenticate(BEARER_TOKEN):\n",
    "    \"\"\"\"\"\"\n",
    "    \"\"\"\"\"\"\n",
    "\n",
    "    client = tweepy.Client(bearer_token=BEARER_TOKEN, wait_on_rate_limit=True)\n",
    "\n",
    "    return client\n",
    "\n",
    "client = authenticate(BEARER_TOKEN)"
   ]
  },
  {
   "cell_type": "code",
   "execution_count": 196,
   "metadata": {},
   "outputs": [
    {
     "name": "stdout",
     "output_type": "stream",
     "text": [
      "{'in_reply_to_user_id': '312362691', 'referenced_tweets': [{'type': 'replied_to', 'id': '1250220527005753344'}], 'text': '15. Drinking alcohol does not protect you against COVID-19 and can be dangerous https://t.co/ZrLN61q046', 'public_metrics': {'retweet_count': 0, 'reply_count': 1, 'like_count': 0, 'quote_count': 0}, 'lang': 'en', 'context_annotations': [{'domain': {'id': '65', 'name': 'Interests and Hobbies Vertical', 'description': 'Top level interests and hobbies groupings, like Food or Travel'}, 'entity': {'id': '834828264786898945', 'name': 'Drinks', 'description': 'Drinks'}}, {'domain': {'id': '67', 'name': 'Interests and Hobbies', 'description': 'Interests, opinions, and behaviors of individuals, groups, or cultures; like Speciality Cooking or Theme Parks'}, 'entity': {'id': '1006278636842782720', 'name': 'Drink Experience', 'description': 'Drink Experience'}}, {'domain': {'id': '123', 'name': 'Ongoing News Story', 'description': \"Ongoing News Stories like 'Brexit'\"}, 'entity': {'id': '1220701888179359745', 'name': 'COVID-19'}}], 'created_at': '2020-04-15T00:33:59.000Z', 'id': '1250220791544705025', 'attachments': {'media_keys': ['3_1250220784812830720']}, 'author_id': '312362691', 'source': 'Twitter Web App', 'entities': {'urls': [{'start': 80, 'end': 103, 'url': 'https://t.co/ZrLN61q046', 'expanded_url': 'https://twitter.com/ucoptempe/status/1250220791544705025/photo/1', 'display_url': 'pic.twitter.com/ZrLN61q046'}]}, 'user': {'username': 'ucoptempe', 'id': '312362691', 'description': '#prinsip Rukun Negara #prinsip dalam hidup', 'public_metrics': {'followers_count': 407, 'following_count': 2358, 'tweet_count': 26416, 'listed_count': 1}, 'name': '🇲🇾ybk🇲🇾', 'entities': {'description': {'hashtags': [{'start': 0, 'end': 8, 'tag': 'prinsip'}, {'start': 22, 'end': 30, 'tag': 'prinsip'}]}}, 'created_at': '2011-06-07T00:46:08.000Z', 'verified': False}, 'type': 'photo', 'media_key': '3_1250220784812830720', 'url': 'https://pbs.twimg.com/media/EVmtLgmUMAALXaI.jpg'}\n"
     ]
    }
   ],
   "source": [
    "tweet = {}\n",
    "response = client.get_tweets('1250220791544705025', \n",
    "                            tweet_fields = ['attachments', 'created_at', 'entities', 'geo', \n",
    "                                            'public_metrics', 'referenced_tweets', \n",
    "                                            'author_id', 'source', 'context_annotations', 'in_reply_to_user_id', 'lang'],\n",
    "                            place_fields = ['geo', 'country', 'name', 'place_type'],\n",
    "                            user_fields = ['created_at', 'description','entities', 'public_metrics', 'verified'],\n",
    "                            media_fields = ['url', 'duration_ms', 'public_metrics', 'alt_text'],\n",
    "                            expansions = 'geo.place_id,author_id,attachments.media_keys,in_reply_to_user_id')\n",
    "try:\n",
    "    if response.data is not None:\n",
    "        for t in response.data:\n",
    "            tweet.update(t.data)\n",
    "except Exception as e:\n",
    "    print(e)\n",
    "    pass\n",
    "try:\n",
    "    if response.includes.get('users', None) is not None:   \n",
    "        for user in response.includes['users']:\n",
    "            tweet['user'] = user.data\n",
    "except Exception as e:\n",
    "    print(e)\n",
    "    pass\n",
    "try:\n",
    "    if response.includes.get('place', None) is not None:\n",
    "        for place in response.includes['place']:\n",
    "            tweet.update(place.data)\n",
    "except Exception as e:\n",
    "    print(e)\n",
    "    pass\n",
    "try:\n",
    "    if response.includes.get('media', None) is not None:\n",
    "        for media in response.includes['media']:\n",
    "            tweet.update(media.data)\n",
    "except Exception as e:\n",
    "    print(e)\n",
    "    pass\n",
    "\n",
    "print(tweet)"
   ]
  }
 ],
 "metadata": {
  "interpreter": {
   "hash": "0dabc2a3d58a0c5bc25b4ec180f9b0e69ae1522730256f35a8f23b249fc9a485"
  },
  "kernelspec": {
   "display_name": "Python 3.9.7 ('base')",
   "language": "python",
   "name": "python3"
  },
  "language_info": {
   "codemirror_mode": {
    "name": "ipython",
    "version": 3
   },
   "file_extension": ".py",
   "mimetype": "text/x-python",
   "name": "python",
   "nbconvert_exporter": "python",
   "pygments_lexer": "ipython3",
   "version": "3.9.7"
  },
  "orig_nbformat": 4
 },
 "nbformat": 4,
 "nbformat_minor": 2
}
