{
 "cells": [
  {
   "cell_type": "code",
   "execution_count": 44,
   "id": "a50d884c-a9da-4027-9765-7271cb3643d9",
   "metadata": {},
   "outputs": [],
   "source": [
    "import os.path\n",
    "from os import path\n",
    "import json\n",
    "import numpy as np"
   ]
  },
  {
   "cell_type": "code",
   "execution_count": 45,
   "id": "c15f77d9-dff6-4a7c-9c25-b3cd68a44b4c",
   "metadata": {},
   "outputs": [],
   "source": [
    "def all (data_path):\n",
    "    ids = []\n",
    "    with open(data_path, 'r', encoding = 'utf-8') as f:\n",
    "        for line in f:\n",
    "            line = line.strip('\\n')\n",
    "            line = line.split(',')\n",
    "            for id in line:\n",
    "                ids.append(id)\n",
    "    return ids"
   ]
  },
  {
   "cell_type": "code",
   "execution_count": 46,
   "id": "cfbf3f8d-f685-4466-a8f2-a134cf440e8a",
   "metadata": {},
   "outputs": [
    {
     "name": "stdout",
     "output_type": "stream",
     "text": [
      "28633\n"
     ]
    }
   ],
   "source": [
    "# ids in train\n",
    "train_path = '/Users/weimin/Downloads/NLP/project-data/data_obj/train/train.data.txt'\n",
    "train = all(train_path)\n",
    "print(len(np.unique(train)))"
   ]
  },
  {
   "cell_type": "code",
   "execution_count": 47,
   "id": "58281c18-4575-4c20-9945-d57d4ad4578e",
   "metadata": {},
   "outputs": [
    {
     "name": "stdout",
     "output_type": "stream",
     "text": [
      "7757\n"
     ]
    }
   ],
   "source": [
    "# ids in test\n",
    "test_path = '/Users/weimin/Downloads/NLP/project-data/data_obj/test/test.data.txt' \n",
    "test = all(test_path)\n",
    "print(len(np.unique(test)))"
   ]
  },
  {
   "cell_type": "code",
   "execution_count": 48,
   "id": "1ebeeede-e176-4daf-80be-2b0524588ce5",
   "metadata": {},
   "outputs": [
    {
     "name": "stdout",
     "output_type": "stream",
     "text": [
      "10172\n"
     ]
    }
   ],
   "source": [
    "# ids in dev\n",
    "dev_path = '/Users/weimin/Downloads/NLP/project-data/data_obj/dev/dev.data.txt' \n",
    "dev = all(dev_path)\n",
    "print(len(np.unique(dev)))"
   ]
  },
  {
   "cell_type": "code",
   "execution_count": 49,
   "id": "eab543b9-2e17-473f-adb4-50663a034505",
   "metadata": {},
   "outputs": [],
   "source": [
    "train_folder = '/Users/weimin/Downloads/NLP/project-data/data_obj/train/tweet-objects-train' # tweet-objects-train/dev/test\n",
    "test_folder = '/Users/weimin/Downloads/NLP/project-data/data_obj/test/tweet-objects-test' \n",
    "dev_folder = '/Users/weimin/Downloads/NLP/project-data/data_obj/dev/tweet-objects-dev'"
   ]
  },
  {
   "cell_type": "code",
   "execution_count": 50,
   "id": "0c3e9b18-098e-46d5-b679-619eae3c3fc6",
   "metadata": {},
   "outputs": [
    {
     "data": {
      "text/plain": [
       "612"
      ]
     },
     "execution_count": 50,
     "metadata": {},
     "output_type": "execute_result"
    }
   ],
   "source": [
    "# train ids in test\n",
    "\n",
    "train_check = []\n",
    "\n",
    "for tweet_id in train:\n",
    "    file_path = f'{test_folder}/{tweet_id}.json'\n",
    "    if path.exists(file_path):\n",
    "        train_check.append(tweet_id)\n",
    "    else:\n",
    "        pass\n",
    "    \n",
    "len(np.unique(train_check))"
   ]
  },
  {
   "cell_type": "code",
   "execution_count": 51,
   "id": "6283471c-3003-44de-8d25-ba81c2c5a1f0",
   "metadata": {},
   "outputs": [
    {
     "data": {
      "text/plain": [
       "254"
      ]
     },
     "execution_count": 51,
     "metadata": {},
     "output_type": "execute_result"
    }
   ],
   "source": [
    "# dev ids in test\n",
    "\n",
    "dev_check = []\n",
    "\n",
    "for tweet_id in dev:\n",
    "    file_path = f'{test_folder}/{tweet_id}.json'\n",
    "    if path.exists(file_path):\n",
    "        dev_check.append(tweet_id)\n",
    "    else:\n",
    "        pass\n",
    "    \n",
    "len(np.unique(dev_check))"
   ]
  },
  {
   "cell_type": "code",
   "execution_count": 52,
   "id": "593e61df-4ff6-46f6-9407-7723ffceac9d",
   "metadata": {},
   "outputs": [],
   "source": [
    "def read_tweet_file(file_path):\n",
    "    with open (file_path, 'r') as f:\n",
    "        tweet = f.read()\n",
    "    return tweet"
   ]
  },
  {
   "cell_type": "code",
   "execution_count": 53,
   "id": "d50b9b67-5ab7-4c0c-a9af-ed4d3142dff1",
   "metadata": {},
   "outputs": [],
   "source": [
    "def write_to_file(id, tweet, path):\n",
    "    with open(path + id +'.txt', 'w') as f:\n",
    "        json.dump(tweet, f)"
   ]
  },
  {
   "cell_type": "code",
   "execution_count": 54,
   "id": "4723c330-0def-4025-b1f6-91999c40b6dd",
   "metadata": {},
   "outputs": [
    {
     "name": "stdout",
     "output_type": "stream",
     "text": [
      "1240889884581285890\n",
      "1240889894349701121\n",
      "1240890137778716674\n",
      "1240890463269330944\n",
      "1240890805147054081\n",
      "1240891111511674881\n",
      "1240891114883858432\n",
      "1240891368341483520\n",
      "1240894108316643329\n",
      "1240894408121352198\n",
      "1240894669854253056\n",
      "520265921538301954\n",
      "519868482817892352\n",
      "519881163217727489\n",
      "519959025044439040\n",
      "519868572357918720\n",
      "519867615586824192\n",
      "519941151047311360\n",
      "519867908751495168\n",
      "519875478224531457\n",
      "521011642549559298\n",
      "519867463748816896\n",
      "520210832165437441\n",
      "519940109429641216\n",
      "519868168328982528\n",
      "519869321804537857\n",
      "519867302788235264\n",
      "519881568249462785\n",
      "519868660559532032\n",
      "520654219721052160\n",
      "519873665190866944\n",
      "519873492050010112\n",
      "519868351095795712\n",
      "519934534885060608\n",
      "519903296148869120\n",
      "519867771854020608\n",
      "519917736328450049\n",
      "519942977456984064\n",
      "519913279821328384\n",
      "519870612412858369\n",
      "1236050046950481922\n",
      "1236050255394877440\n",
      "1236050331940855808\n"
     ]
    }
   ],
   "source": [
    "# replace deleted tweets in train with provided tweet objects in test\n",
    "\n",
    "for ids in train_check:\n",
    "    file_path = f'{train_folder}/{ids}.txt'\n",
    "    tweet = read_tweet_file(file_path)\n",
    "    if tweet == '{}':\n",
    "        print(ids)\n",
    "        new_path = f'{test_folder}/{ids}.json'\n",
    "        new_tweet = json.loads(read_tweet_file(new_path))\n",
    "        write_to_file(ids, new_tweet, train_folder+'/')\n",
    "    "
   ]
  },
  {
   "cell_type": "code",
   "execution_count": 55,
   "id": "72fcf37a-f916-42b7-99fd-4f0c362a3299",
   "metadata": {},
   "outputs": [],
   "source": [
    "# replace deleted tweets in dev with provided tweet objects in test\n",
    "\n",
    "for ids in dev_check:\n",
    "    file_path = f'{dev_folder}/{ids}.txt'\n",
    "    tweet = read_tweet_file(file_path)\n",
    "    if tweet == '{}':\n",
    "        print(ids)\n",
    "        new_path = f'{test_folder}/{ids}.json'\n",
    "        new_tweet = json.loads(read_tweet_file(new_path))\n",
    "        write_to_file(ids, new_tweet, dev_folder+'/')"
   ]
  },
  {
   "cell_type": "code",
   "execution_count": 56,
   "id": "268ede99-7129-4d32-b233-8bfe33039ad9",
   "metadata": {},
   "outputs": [],
   "source": [
    "# checking test objects\n",
    "\n",
    "for ids in test:\n",
    "    file_path = f'{test_folder}/{ids}.json'\n",
    "    if path.exists(file_path):\n",
    "        pass\n",
    "    else:\n",
    "        print(f'{ids} does not exist')"
   ]
  },
  {
   "cell_type": "code",
   "execution_count": 57,
   "id": "d3e8ada8-2680-48a9-a801-53c506ac46a5",
   "metadata": {},
   "outputs": [],
   "source": [
    "test_files = []\n",
    "os.chdir(test_folder)\n",
    "for file in os.listdir():\n",
    "    if file.endswith('.json'):\n",
    "        fname, _ = os.path.splitext(os.path.basename(file))\n",
    "        test_files.append(fname)"
   ]
  },
  {
   "cell_type": "code",
   "execution_count": 58,
   "id": "00a8e082-42cd-48b3-a6c7-a25c84f6bf8f",
   "metadata": {},
   "outputs": [
    {
     "data": {
      "text/plain": [
       "8159"
      ]
     },
     "execution_count": 58,
     "metadata": {},
     "output_type": "execute_result"
    }
   ],
   "source": [
    "len(test_files)"
   ]
  },
  {
   "cell_type": "code",
   "execution_count": 59,
   "id": "c0cf8196-c2e1-42ce-97e5-6dc030c5846e",
   "metadata": {},
   "outputs": [],
   "source": [
    "diff = []\n",
    "for ids in test_files:\n",
    "    if ids not in test:\n",
    "        diff.append(ids)"
   ]
  },
  {
   "cell_type": "code",
   "execution_count": 60,
   "id": "e469c21e-71e0-4834-9d45-d05ff2ce3e5f",
   "metadata": {},
   "outputs": [
    {
     "data": {
      "text/plain": [
       "402"
      ]
     },
     "execution_count": 60,
     "metadata": {},
     "output_type": "execute_result"
    }
   ],
   "source": [
    "len(np.unique(diff))"
   ]
  },
  {
   "cell_type": "code",
   "execution_count": 61,
   "id": "91923fe3-227e-4965-b2f1-4bf0d1c5bca5",
   "metadata": {},
   "outputs": [
    {
     "name": "stdout",
     "output_type": "stream",
     "text": [
      "7757\n"
     ]
    }
   ],
   "source": [
    "print(len(np.unique(test)))"
   ]
  },
  {
   "cell_type": "code",
   "execution_count": 62,
   "id": "a1b83f01-5da5-491c-9f98-c30fd07b6f8e",
   "metadata": {},
   "outputs": [],
   "source": [
    "for ids in train:\n",
    "    if ids in diff:\n",
    "        print(ids)"
   ]
  },
  {
   "cell_type": "code",
   "execution_count": 63,
   "id": "9cc282b7-4a83-4ff5-ba4c-f0b870ca9cfa",
   "metadata": {},
   "outputs": [],
   "source": [
    "for ids in dev:\n",
    "    if ids in diff:\n",
    "        print(ids)"
   ]
  }
 ],
 "metadata": {
  "kernelspec": {
   "display_name": "Python 3 (ipykernel)",
   "language": "python",
   "name": "python3"
  },
  "language_info": {
   "codemirror_mode": {
    "name": "ipython",
    "version": 3
   },
   "file_extension": ".py",
   "mimetype": "text/x-python",
   "name": "python",
   "nbconvert_exporter": "python",
   "pygments_lexer": "ipython3",
   "version": "3.9.7"
  }
 },
 "nbformat": 4,
 "nbformat_minor": 5
}
