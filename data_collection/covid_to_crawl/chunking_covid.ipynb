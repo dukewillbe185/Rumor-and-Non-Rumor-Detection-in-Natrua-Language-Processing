{
 "cells": [
  {
   "cell_type": "code",
   "execution_count": 37,
   "id": "ddd5e84d-df6e-4177-aaba-c01fc68f5a7b",
   "metadata": {},
   "outputs": [],
   "source": [
    "def all (data_path):\n",
    "    ids = []\n",
    "    with open(data_path, 'r', encoding = 'utf-8') as f:\n",
    "        for line in f:\n",
    "            line = line.strip('\\n')\n",
    "            line = line.split(',')\n",
    "            for id in line:\n",
    "                ids.append(id)\n",
    "    return ids"
   ]
  },
  {
   "cell_type": "code",
   "execution_count": 38,
   "id": "341b9e47-e744-4d74-8c27-c7d048ff3f3d",
   "metadata": {},
   "outputs": [],
   "source": [
    "data_path = 'covid.data.txt'\n",
    "\n",
    "total = all(data_path)"
   ]
  },
  {
   "cell_type": "code",
   "execution_count": 39,
   "id": "b8dcff35-4157-42e8-a1b7-858a568ecbb7",
   "metadata": {},
   "outputs": [
    {
     "name": "stdout",
     "output_type": "stream",
     "text": [
      "254681\n"
     ]
    }
   ],
   "source": [
    "print(len(total))"
   ]
  },
  {
   "cell_type": "code",
   "execution_count": 40,
   "id": "8be3129b-45e9-4c29-bddf-5de8f3846ee6",
   "metadata": {},
   "outputs": [
    {
     "data": {
      "text/plain": [
       "84893.66666666667"
      ]
     },
     "execution_count": 40,
     "metadata": {},
     "output_type": "execute_result"
    }
   ],
   "source": [
    "len(total)/3"
   ]
  },
  {
   "cell_type": "code",
   "execution_count": 41,
   "id": "79a71c9a-bd19-46f7-85d4-3429f15c6246",
   "metadata": {},
   "outputs": [],
   "source": [
    "with open('chunk-1.txt', 'w') as f:\n",
    "    for ids in total[:84894]:\n",
    "        f.write(ids + '\\n')  "
   ]
  },
  {
   "cell_type": "code",
   "execution_count": 42,
   "id": "a994f969-13a0-415e-a450-cad8aebc06c2",
   "metadata": {},
   "outputs": [],
   "source": [
    "with open('chunk-2.txt', 'w') as f:\n",
    "    for ids in total[84894:84894*2]:\n",
    "        f.write(ids + '\\n')  "
   ]
  },
  {
   "cell_type": "code",
   "execution_count": 43,
   "id": "38f97dba-36bd-464c-807c-cba97828907b",
   "metadata": {},
   "outputs": [],
   "source": [
    "with open('chunk-3.txt', 'w') as f:\n",
    "    for ids in total[84894*2:254681]:\n",
    "        f.write(ids + '\\n') "
   ]
  },
  {
   "cell_type": "code",
   "execution_count": 20,
   "id": "eec39207",
   "metadata": {},
   "outputs": [],
   "source": [
    "data_path = 'chunk-3.txt'\n",
    "\n",
    "ids = []\n",
    "with open(data_path, 'r', encoding = 'utf-8') as f:\n",
    "    for line in f:\n",
    "        line = line.strip('\\n')\n",
    "        line = line.split(',')\n",
    "        for id in line:\n",
    "            ids.append(id)"
   ]
  },
  {
   "cell_type": "code",
   "execution_count": 21,
   "id": "42a8a54c",
   "metadata": {},
   "outputs": [
    {
     "data": {
      "text/plain": [
       "84881"
      ]
     },
     "execution_count": 21,
     "metadata": {},
     "output_type": "execute_result"
    }
   ],
   "source": [
    "import numpy as np\n",
    "len(np.unique(ids))"
   ]
  }
 ],
 "metadata": {
  "kernelspec": {
   "display_name": "Python 3 (ipykernel)",
   "language": "python",
   "name": "python3"
  },
  "language_info": {
   "codemirror_mode": {
    "name": "ipython",
    "version": 3
   },
   "file_extension": ".py",
   "mimetype": "text/x-python",
   "name": "python",
   "nbconvert_exporter": "python",
   "pygments_lexer": "ipython3",
   "version": "3.9.7"
  }
 },
 "nbformat": 4,
 "nbformat_minor": 5
}
