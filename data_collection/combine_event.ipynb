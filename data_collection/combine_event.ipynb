{
 "cells": [
  {
   "cell_type": "code",
   "execution_count": 8,
   "id": "13e6dd2b-9c67-41d3-94d2-b6f617b5b914",
   "metadata": {},
   "outputs": [],
   "source": [
    "import os\n",
    "import json"
   ]
  },
  {
   "cell_type": "code",
   "execution_count": 9,
   "id": "afb6a3fc-398f-4cf3-8abf-9c9e768bb8f6",
   "metadata": {},
   "outputs": [],
   "source": [
    "def event_path(filepath):\n",
    "    \n",
    "    with open(filepath, 'r') as f:\n",
    "        for line in f:\n",
    "            yield line"
   ]
  },
  {
   "cell_type": "code",
   "execution_count": 10,
   "id": "ac582c7b-6c55-4234-8aff-9ff0d0e62689",
   "metadata": {},
   "outputs": [],
   "source": [
    "def find_file(tweet_id, folder_path):\n",
    "    os.chdir(folder_path)\n",
    "    for file in os.listdir():\n",
    "        if file.startswith(tweet_id) and file.endswith('.json'): # .txt for train/dev\n",
    "            file_path = f'{folder_path}/{file}'\n",
    "            tweet = read_tweet_file(file_path)\n",
    "        elif file.startswith(tweet_id) and file.endswith('.txt'): # .txt for train/dev\n",
    "            file_path = f'{folder_path}/{file}'\n",
    "            tweet = read_tweet_file(file_path)\n",
    "    return tweet\n",
    "            \n",
    "\n",
    "def read_tweet_file(file_path):\n",
    "    with open (file_path, 'r') as f:\n",
    "        tweet = f.read()\n",
    "    return tweet"
   ]
  },
  {
   "cell_type": "code",
   "execution_count": 11,
   "id": "c9c78ef3-84d3-48c9-a7fe-9a8f73931dc8",
   "metadata": {},
   "outputs": [],
   "source": [
    "train_event = '/Users/weimin/Downloads/NLP/project-data/data_obj/train/train.data.txt'\n",
    "dev_event = '/Users/weimin/Downloads/NLP/project-data/data_obj/dev/dev.data.txt'\n",
    "test_event = '/Users/weimin/Downloads/NLP/project-data/data_obj/test/test.data.txt'\n",
    "covid_event = '/Users/weimin/Downloads/NLP/NLP_A3/project-data/task_2/covid.data.txt'"
   ]
  },
  {
   "cell_type": "code",
   "execution_count": 12,
   "id": "44618c5a-eed6-4321-b99c-aefe21211191",
   "metadata": {},
   "outputs": [],
   "source": [
    "train_folder_path = '/Users/weimin/Downloads/NLP/project-data/data_obj/train/tweet-objects-train' # tweet-objects-train/dev/test\n",
    "dev_folder_path = '/Users/weimin/Downloads/NLP/project-data/data_obj/dev/tweet-objects-dev' \n",
    "test_folder_path = '/Users/weimin/Downloads/NLP/project-data/data_obj/test/tweet-objects-test' # tweet-objects-train/dev/test\n",
    "covid_folder_path = '/Users/weimin/Downloads/NLP/covid-data'\n",
    "\n",
    "train_event_path = '/Users/weimin/Downloads/NLP/project-data/data_obj/train/tweet-objects-train/event' # tweet-objects-train/dev/test\n",
    "dev_event_path = '/Users/weimin/Downloads/NLP/project-data/data_obj/dev/tweet-objects-dev/event'\n",
    "test_event_path = '/Users/weimin/Downloads/NLP/project-data/data_obj/test/tweet-objects-test/event'\n",
    "covid_event_path = '/Users/weimin/Downloads/NLP/covid-data/event'"
   ]
  },
  {
   "cell_type": "code",
   "execution_count": 79,
   "id": "62d53472-4bda-471f-8e12-16b3213cb618",
   "metadata": {},
   "outputs": [],
   "source": [
    "def combine_event(event, folder_path, event_path):\n",
    "    for i, line in enumerate(event):\n",
    "        if i > 10724:\n",
    "            eve = []\n",
    "            line = line.strip('\\n')\n",
    "            ids = line.split(',')\n",
    "            # print(i, line)\n",
    "            source_id = ids[0]\n",
    "            source_tweet = find_file(source_id, folder_path)\n",
    "            if source_tweet != '{}':\n",
    "                for tweet_id in ids:\n",
    "                    tweet = find_file(tweet_id, folder_path)\n",
    "                    tweet_obj = json.loads(tweet)\n",
    "                    eve.append(tweet_obj)\n",
    "\n",
    "                os.chdir(event_path)\n",
    "                save_file = open(str(i) + '.json', 'w', encoding = 'utf-8')\n",
    "                for tweet in eve:\n",
    "                    json.dump(tweet, save_file)\n",
    "                    save_file.write('\\n')"
   ]
  },
  {
   "cell_type": "code",
   "execution_count": 80,
   "id": "9f38482e-1849-4fdb-bf94-8fe031f44424",
   "metadata": {},
   "outputs": [],
   "source": [
    "event = event_path(covid_event)\n",
    "\n",
    "combine_event(event, covid_folder_path, covid_event_path)"
   ]
  }
 ],
 "metadata": {
  "kernelspec": {
   "display_name": "Python 3 (ipykernel)",
   "language": "python",
   "name": "python3"
  },
  "language_info": {
   "codemirror_mode": {
    "name": "ipython",
    "version": 3
   },
   "file_extension": ".py",
   "mimetype": "text/x-python",
   "name": "python",
   "nbconvert_exporter": "python",
   "pygments_lexer": "ipython3",
   "version": "3.9.7"
  }
 },
 "nbformat": 4,
 "nbformat_minor": 5
}
