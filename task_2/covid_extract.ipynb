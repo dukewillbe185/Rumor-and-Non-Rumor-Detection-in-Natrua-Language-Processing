{
 "cells": [
  {
   "cell_type": "code",
   "execution_count": 1,
   "id": "a8164919-376e-4711-ada2-8a9b8ba28373",
   "metadata": {},
   "outputs": [],
   "source": [
    "import numpy as np\n",
    "import pandas as pd\n",
    "import datetime\n",
    "from os import path\n",
    "import json"
   ]
  },
  {
   "cell_type": "code",
   "execution_count": 2,
   "id": "e04b8d81-f816-495f-b05e-230b83c98330",
   "metadata": {},
   "outputs": [],
   "source": [
    "def get_lines(data_path):\n",
    "    count = 0\n",
    "    with open(data_path, 'r', encoding = 'utf-8') as f:\n",
    "        for line in f:\n",
    "            count += 1\n",
    "    return count"
   ]
  },
  {
   "cell_type": "code",
   "execution_count": 3,
   "id": "7c1b5012-4221-496a-b002-f23492413366",
   "metadata": {},
   "outputs": [],
   "source": [
    "def read_tweet_file(file_path):\n",
    "    with open (file_path, 'r') as f:\n",
    "        event = list(f)\n",
    "    return event"
   ]
  },
  {
   "cell_type": "code",
   "execution_count": 4,
   "id": "145848da-ec61-4159-987c-93abd8e49035",
   "metadata": {},
   "outputs": [],
   "source": [
    "def linguistic_features(tweet):\n",
    "    try:\n",
    "        text = tweet['text']\n",
    "    except:\n",
    "        text = \"\"\n",
    "    return text"
   ]
  },
  {
   "cell_type": "code",
   "execution_count": 16,
   "id": "e067d0c0",
   "metadata": {},
   "outputs": [],
   "source": [
    "def covid_extract(data_path, folder_path, save_path):\n",
    "\n",
    "    count = get_lines(data_path)\n",
    "    \n",
    "    data = []\n",
    "    for i in range(count):\n",
    "        \n",
    "        file_path = f'{folder_path}/{i}.json'\n",
    "        \n",
    "        if path.exists(file_path):\n",
    "\n",
    "            event = read_tweet_file(file_path)\n",
    "\n",
    "            # process source tweet\n",
    "            tweet_source = json.loads(event[0])\n",
    "\n",
    "            # extract linguistic features\n",
    "            source_text = linguistic_features(tweet_source)\n",
    "\n",
    "            # process follow-up tweets in an event\n",
    "            text = \"\"\n",
    "            for t in event[1:]:\n",
    "                \n",
    "                tweet = json.loads(t)\n",
    "\n",
    "                # extract linguistic features\n",
    "                tweet_text = linguistic_features(tweet)\n",
    "                text = text + \" \" + tweet_text\n",
    "\n",
    "            event_text = source_text + \" \" + text\n",
    "            event = [i] + [event_text]\n",
    "\n",
    "            data.append(event)\n",
    "\n",
    "        else:\n",
    "            continue\n",
    "\n",
    "    df = pd.DataFrame(data, columns = ['row', 'text'])\n",
    "    print(df)\n",
    "\n",
    "    df.to_csv(save_path, index=False) "
   ]
  },
  {
   "cell_type": "code",
   "execution_count": 17,
   "id": "511307b3",
   "metadata": {},
   "outputs": [],
   "source": [
    "# covid\n",
    "    \n",
    "data_path = '/Users/weimin/Downloads/NLP/NLP_A3/project-data/task_2/covid.data.txt'\n",
    "folder_path = '/Users/weimin/Downloads/NLP/covid-event'\n",
    "save_path = '/Users/weimin/Downloads/NLP/covid.csv'\n",
    "save_path_label = '/Users/weimin/Downloads/NLP/covid_label.csv'"
   ]
  },
  {
   "cell_type": "code",
   "execution_count": 18,
   "id": "bb5cdf1d",
   "metadata": {},
   "outputs": [
    {
     "name": "stdout",
     "output_type": "stream",
     "text": [
      "         row                                               text\n",
      "0          0  According to the New York Times, Warner Bros. ...\n",
      "1          1  Hurricane Hanna has made landfall in Texas.\\n\\...\n",
      "2          2  Monkeys on the loose in India with stolen coro...\n",
      "3          4  “If Trump felt comfortable having it here, the...\n",
      "4          5  DISTURBING: Alabama officials say some student...\n",
      "...      ...                                                ...\n",
      "15959  17453  I wonder how many lives could’ve been saved if...\n",
      "15960  17454  The @thetimes front page on 17th March. The fi...\n",
      "15961  17455  Trump just completed the racism trifecta in a ...\n",
      "15962  17456  Here are a few of my photographs from today’s ...\n",
      "15963  17457  ‘IT’S GONE’: Bill De Blasio Says NYC Facing $9...\n",
      "\n",
      "[15964 rows x 2 columns]\n"
     ]
    }
   ],
   "source": [
    "covid_extract(data_path, folder_path, save_path)"
   ]
  }
 ],
 "metadata": {
  "kernelspec": {
   "display_name": "Python 3 (ipykernel)",
   "language": "python",
   "name": "python3"
  },
  "language_info": {
   "codemirror_mode": {
    "name": "ipython",
    "version": 3
   },
   "file_extension": ".py",
   "mimetype": "text/x-python",
   "name": "python",
   "nbconvert_exporter": "python",
   "pygments_lexer": "ipython3",
   "version": "3.9.7"
  }
 },
 "nbformat": 4,
 "nbformat_minor": 5
}
