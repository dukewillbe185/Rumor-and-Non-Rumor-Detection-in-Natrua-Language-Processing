{
 "cells": [
  {
   "cell_type": "code",
   "execution_count": 2,
   "id": "13e6dd2b-9c67-41d3-94d2-b6f617b5b914",
   "metadata": {},
   "outputs": [],
   "source": [
    "import os\n",
    "import json"
   ]
  },
  {
   "cell_type": "code",
   "execution_count": 3,
   "id": "afb6a3fc-398f-4cf3-8abf-9c9e768bb8f6",
   "metadata": {},
   "outputs": [],
   "source": [
    "def event_path(filepath):\n",
    "    \n",
    "    with open(filepath, 'r') as f:\n",
    "        for line in f:\n",
    "            yield line"
   ]
  },
  {
   "cell_type": "code",
   "execution_count": 4,
   "id": "ac582c7b-6c55-4234-8aff-9ff0d0e62689",
   "metadata": {},
   "outputs": [],
   "source": [
    "def find_file(tweet_id, folder_path):\n",
    "    os.chdir(folder_path)\n",
    "    for file in os.listdir():\n",
    "        if file.startswith(tweet_id) and file.endswith('.json'): # .txt for train/dev\n",
    "            file_path = f'{folder_path}/{file}'\n",
    "            tweet = read_tweet_file(file_path)\n",
    "        elif file.startswith(tweet_id) and file.endswith('.txt'): # .txt for train/dev\n",
    "            file_path = f'{folder_path}/{file}'\n",
    "            tweet = read_tweet_file(file_path)\n",
    "    return tweet\n",
    "            \n",
    "\n",
    "def read_tweet_file(file_path):\n",
    "    with open (file_path, 'r') as f:\n",
    "        tweet = f.read()\n",
    "    return tweet"
   ]
  },
  {
   "cell_type": "code",
   "execution_count": 5,
   "id": "c9c78ef3-84d3-48c9-a7fe-9a8f73931dc8",
   "metadata": {},
   "outputs": [],
   "source": [
    "train_event = '/Users/weimin/Downloads/NLP/project-data/data_obj/train/train.data.txt'\n",
    "dev_event = '/Users/weimin/Downloads/NLP/project-data/data_obj/dev/dev.data.txt'\n",
    "test_event = '/Users/weimin/Downloads/NLP/project-data/data_obj/test/test.data.txt'\n",
    "covid_event = '/Users/weimin/Downloads/NLP/NLP_A3/project-data/task_2/covid.data.txt'"
   ]
  },
  {
   "cell_type": "code",
   "execution_count": 6,
   "id": "44618c5a-eed6-4321-b99c-aefe21211191",
   "metadata": {},
   "outputs": [],
   "source": [
    "train_folder_path = '/Users/weimin/Downloads/NLP/project-data/data_obj/train/tweet-objects-train' # tweet-objects-train/dev/test\n",
    "dev_folder_path = '/Users/weimin/Downloads/NLP/project-data/data_obj/dev/tweet-objects-dev' \n",
    "test_folder_path = '/Users/weimin/Downloads/NLP/project-data/data_obj/test/tweet-objects-test' # tweet-objects-train/dev/test\n",
    "covid_folder_path = '/Users/weimin/Downloads/NLP/covid-data'\n",
    "\n",
    "train_event_path = '/Users/weimin/Downloads/NLP/project-data/data_obj/train/tweet-objects-train/event' # tweet-objects-train/dev/test\n",
    "dev_event_path = '/Users/weimin/Downloads/NLP/project-data/data_obj/dev/tweet-objects-dev/event'\n",
    "test_event_path = '/Users/weimin/Downloads/NLP/project-data/data_obj/test/tweet-objects-test/event'\n",
    "covid_event_path = '/Users/weimin/Downloads/NLP/covid-data/event'"
   ]
  },
  {
   "cell_type": "code",
   "execution_count": 7,
   "id": "62d53472-4bda-471f-8e12-16b3213cb618",
   "metadata": {},
   "outputs": [],
   "source": [
    "def combine_event(event, folder_path, event_path):\n",
    "    for i, line in enumerate(event): \n",
    "        eve = []\n",
    "        line = line.strip('\\n')\n",
    "        ids = line.split(',')\n",
    "        source_id = ids[0]\n",
    "        source_tweet = find_file(source_id, folder_path)\n",
    "        if source_tweet != '{}':\n",
    "            for tweet_id in ids:\n",
    "                tweet = find_file(tweet_id, folder_path)\n",
    "                tweet_obj = json.loads(tweet)\n",
    "                eve.append(tweet_obj)\n",
    "\n",
    "            os.chdir(event_path)\n",
    "            save_file = open(str(i) + '.json', 'w', encoding = 'utf-8')\n",
    "            for tweet in eve:\n",
    "                json.dump(tweet, save_file)\n",
    "                save_file.write('\\n')\n"
   ]
  },
  {
   "cell_type": "code",
   "execution_count": 8,
   "id": "9f38482e-1849-4fdb-bf94-8fe031f44424",
   "metadata": {},
   "outputs": [
    {
     "ename": "UnboundLocalError",
     "evalue": "local variable 'tweet' referenced before assignment",
     "output_type": "error",
     "traceback": [
      "\u001b[0;31m---------------------------------------------------------------------------\u001b[0m",
      "\u001b[0;31mUnboundLocalError\u001b[0m                         Traceback (most recent call last)",
      "\u001b[0;32m/var/folders/zm/w0wn08v14ggc6v0qq8qzjmz80000gn/T/ipykernel_20842/2601774149.py\u001b[0m in \u001b[0;36m<module>\u001b[0;34m\u001b[0m\n\u001b[1;32m      1\u001b[0m \u001b[0mevent\u001b[0m \u001b[0;34m=\u001b[0m \u001b[0mevent_path\u001b[0m\u001b[0;34m(\u001b[0m\u001b[0mcovid_event\u001b[0m\u001b[0;34m)\u001b[0m\u001b[0;34m\u001b[0m\u001b[0;34m\u001b[0m\u001b[0m\n\u001b[1;32m      2\u001b[0m \u001b[0;34m\u001b[0m\u001b[0m\n\u001b[0;32m----> 3\u001b[0;31m \u001b[0mcombine_event\u001b[0m\u001b[0;34m(\u001b[0m\u001b[0mevent\u001b[0m\u001b[0;34m,\u001b[0m \u001b[0mcovid_folder_path\u001b[0m\u001b[0;34m,\u001b[0m \u001b[0mcovid_event_path\u001b[0m\u001b[0;34m)\u001b[0m\u001b[0;34m\u001b[0m\u001b[0;34m\u001b[0m\u001b[0m\n\u001b[0m",
      "\u001b[0;32m/var/folders/zm/w0wn08v14ggc6v0qq8qzjmz80000gn/T/ipykernel_20842/786643148.py\u001b[0m in \u001b[0;36mcombine_event\u001b[0;34m(event, folder_path, event_path)\u001b[0m\n\u001b[1;32m      5\u001b[0m         \u001b[0mids\u001b[0m \u001b[0;34m=\u001b[0m \u001b[0mline\u001b[0m\u001b[0;34m.\u001b[0m\u001b[0msplit\u001b[0m\u001b[0;34m(\u001b[0m\u001b[0;34m','\u001b[0m\u001b[0;34m)\u001b[0m\u001b[0;34m\u001b[0m\u001b[0;34m\u001b[0m\u001b[0m\n\u001b[1;32m      6\u001b[0m         \u001b[0msource_id\u001b[0m \u001b[0;34m=\u001b[0m \u001b[0mids\u001b[0m\u001b[0;34m[\u001b[0m\u001b[0;36m0\u001b[0m\u001b[0;34m]\u001b[0m\u001b[0;34m\u001b[0m\u001b[0;34m\u001b[0m\u001b[0m\n\u001b[0;32m----> 7\u001b[0;31m         \u001b[0msource_tweet\u001b[0m \u001b[0;34m=\u001b[0m \u001b[0mfind_file\u001b[0m\u001b[0;34m(\u001b[0m\u001b[0msource_id\u001b[0m\u001b[0;34m,\u001b[0m \u001b[0mfolder_path\u001b[0m\u001b[0;34m)\u001b[0m\u001b[0;34m\u001b[0m\u001b[0;34m\u001b[0m\u001b[0m\n\u001b[0m\u001b[1;32m      8\u001b[0m         \u001b[0;32mif\u001b[0m \u001b[0msource_tweet\u001b[0m \u001b[0;34m!=\u001b[0m \u001b[0;34m'{}'\u001b[0m\u001b[0;34m:\u001b[0m\u001b[0;34m\u001b[0m\u001b[0;34m\u001b[0m\u001b[0m\n\u001b[1;32m      9\u001b[0m             \u001b[0;32mfor\u001b[0m \u001b[0mtweet_id\u001b[0m \u001b[0;32min\u001b[0m \u001b[0mids\u001b[0m\u001b[0;34m:\u001b[0m\u001b[0;34m\u001b[0m\u001b[0;34m\u001b[0m\u001b[0m\n",
      "\u001b[0;32m/var/folders/zm/w0wn08v14ggc6v0qq8qzjmz80000gn/T/ipykernel_20842/1521070027.py\u001b[0m in \u001b[0;36mfind_file\u001b[0;34m(tweet_id, folder_path)\u001b[0m\n\u001b[1;32m      8\u001b[0m             \u001b[0mfile_path\u001b[0m \u001b[0;34m=\u001b[0m \u001b[0;34mf'{folder_path}/{file}'\u001b[0m\u001b[0;34m\u001b[0m\u001b[0;34m\u001b[0m\u001b[0m\n\u001b[1;32m      9\u001b[0m             \u001b[0mtweet\u001b[0m \u001b[0;34m=\u001b[0m \u001b[0mread_tweet_file\u001b[0m\u001b[0;34m(\u001b[0m\u001b[0mfile_path\u001b[0m\u001b[0;34m)\u001b[0m\u001b[0;34m\u001b[0m\u001b[0;34m\u001b[0m\u001b[0m\n\u001b[0;32m---> 10\u001b[0;31m     \u001b[0;32mreturn\u001b[0m \u001b[0mtweet\u001b[0m\u001b[0;34m\u001b[0m\u001b[0;34m\u001b[0m\u001b[0m\n\u001b[0m\u001b[1;32m     11\u001b[0m \u001b[0;34m\u001b[0m\u001b[0m\n\u001b[1;32m     12\u001b[0m \u001b[0;34m\u001b[0m\u001b[0m\n",
      "\u001b[0;31mUnboundLocalError\u001b[0m: local variable 'tweet' referenced before assignment"
     ]
    }
   ],
   "source": [
    "event = event_path(covid_event)\n",
    "\n",
    "combine_event(event, covid_folder_path, covid_event_path)"
   ]
  }
 ],
 "metadata": {
  "kernelspec": {
   "display_name": "Python 3 (ipykernel)",
   "language": "python",
   "name": "python3"
  },
  "language_info": {
   "codemirror_mode": {
    "name": "ipython",
    "version": 3
   },
   "file_extension": ".py",
   "mimetype": "text/x-python",
   "name": "python",
   "nbconvert_exporter": "python",
   "pygments_lexer": "ipython3",
   "version": "3.9.7"
  }
 },
 "nbformat": 4,
 "nbformat_minor": 5
}
